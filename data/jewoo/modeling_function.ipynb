{
 "cells": [
  {
   "cell_type": "code",
   "execution_count": null,
   "metadata": {},
   "outputs": [],
   "source": [
    "import pandas as pd\n",
    "import numpy as np"
   ]
  },
  {
   "attachments": {},
   "cell_type": "markdown",
   "metadata": {},
   "source": [
    "# K-Fold"
   ]
  },
  {
   "cell_type": "code",
   "execution_count": null,
   "metadata": {},
   "outputs": [],
   "source": [
    "from sklearn.model_selection import StratifiedKFold\n",
    "# from sklearn.linear_model import LinearRegression # 모델 선택\n",
    "\n",
    "kf = StratifiedKFold(n_splits=3, shuffle=True)\n",
    "from sklearn.metrics import r2_score\n",
    "\n",
    "r2_scores = []\n",
    "# lr = LinearRegression()\n",
    "\n",
    "for train_idx, test_idx in kf.split(X):\n",
    "    X_train, X_test = X[train_idx], X[test_idx] # tuple unpacking\n",
    "    y_train, y_test = y[train_idx], y[test_idx]\n",
    "\n",
    "    reg = lr.fit(X_train, y_train)\n",
    "    y_pred = reg.predict(X_test)\n",
    "\n",
    "    r2 = r2_score(y_test, y_pred)\n",
    "    r2_scores.append(r2)\n",
    "r2_scores    "
   ]
  },
  {
   "attachments": {},
   "cell_type": "markdown",
   "metadata": {},
   "source": [
    "# Ensemble"
   ]
  },
  {
   "cell_type": "code",
   "execution_count": null,
   "metadata": {},
   "outputs": [],
   "source": [
    "from sklearn.linear_model import LogisticRegression\n",
    "from sklearn.tree import DecisionTreeRegressor\n",
    "from sklearn.svm import SVR\n",
    "from sklearn.neighbors import KNeighborsRegressor\n",
    "\n",
    "from sklearn.ensemble import VotingRegressor\n",
    "\n",
    "from sklearn.model_selection import train_test_split\n",
    "\n",
    "from sklearn.metrics import accuracy_score\n",
    "from sklearn.model_selection import GridSearchCV\n",
    "\n",
    "import pandas as pd\n",
    "import numpy as np\n",
    "import matplotlib.pyplot as plt\n",
    "import seaborn as sns"
   ]
  },
  {
   "cell_type": "code",
   "execution_count": null,
   "metadata": {},
   "outputs": [],
   "source": [
    "KR_rg = KNeighborsRegressor(max_iter=100000)\n",
    "knn_rg = KNeighborsRegressor(n_neighbors=8)\n",
    "dt_rg = DecisionTreeRegressor(max_depth=3)\n",
    "\n",
    "# 앙상블 학습기 생성\n",
    "voting_clf = VotingClassifier([('KR', KR_rg), ('KNN', knn_rg), ('DT', dt_rg)],\\\n",
    "    voting='soft')\n",
    "# 앙상블 학습기 학습\n",
    "voting_clf.fit(X_train, y_train)\n",
    "\n",
    "train_score = accuracy_score(y_train, voting_clf.predict(X_train))\n",
    "test_score = accuracy_score(y_test, voting_clf.predict(X_test))"
   ]
  },
  {
   "attachments": {},
   "cell_type": "markdown",
   "metadata": {},
   "source": [
    "# Ridge, Lasso, Elasticnet"
   ]
  },
  {
   "attachments": {},
   "cell_type": "markdown",
   "metadata": {},
   "source": [
    "## Ridge\n",
    "\n",
    "!참고 : 아래의 주석들은 이 모델들이 팀과 만났을 때 확인해야할 부분들이 있어서 단 것임 "
   ]
  },
  {
   "cell_type": "code",
   "execution_count": null,
   "metadata": {},
   "outputs": [],
   "source": [
    "from sklearn.linear_model import Ridge\n",
    "\n",
    "alpha_list = range(0.01, 5, 0.01)\n",
    "for i in alpha_list:\n",
    "    model_RG = Ridge(alpha=i)\n",
    "    model_RG.fit(X_train, y_train) # 학습, 평가 데이터 분리 필요\n",
    "    y_pred = model_RG.predict(X_test)\n",
    "    coef= model_RG.coef_\n",
    "    print(coef)\n",
    "    coef = pd.Series(np.abs(model_RG.coef_), index=Total_df.columns) # Total_df.columns 대신 독립변수가 들어가게 수정해야함\n",
    "    coef = coef.sort_values(ascending=False)\n",
    "    # 시각화\n",
    "    plt.figure(figsize=(10, 3))\n",
    "    plt.title(\"<Feature importance of coefficients with Ridge Regulization>\", fontsize=15)\n",
    "    plt.bar(coef.index, coef)\n",
    "    plt.xticks(coef.index, rotation=45, fontsize=11);\n",
    "    # 회귀 계수, 상관 계수 확인\n",
    "    comp_df = pd.DataFrame(index=Total_df.columns + ['R2_score']) # 이것도 위와 동일하게 수정해야함\n",
    "    r2 = r2_score(y_test, y_pred)\n",
    "    col_name = f'Ridge(alpha={each:.2f})'\n",
    "    comp_df[col_name] = np.append(model_RG.coef_, r2)"
   ]
  },
  {
   "cell_type": "code",
   "execution_count": null,
   "metadata": {},
   "outputs": [],
   "source": [
    "comp_df"
   ]
  },
  {
   "attachments": {},
   "cell_type": "markdown",
   "metadata": {},
   "source": [
    "## Lasso"
   ]
  },
  {
   "cell_type": "code",
   "execution_count": null,
   "metadata": {},
   "outputs": [],
   "source": [
    "from sklearn.linear_model import Lasso\n",
    "\n",
    "for i in alpha_list:\n",
    "    model_Lasso = Lasso(alpha=i)\n",
    "    model_Lasso.fit(X_train, y_train) # 들어갈 학습 데이터가 동일한지 확인해야함\n",
    "    coef = np.abs(Lasso_coef)\n",
    "    coef = pd.Series(coef, index=).sort_values(ascending=False) # index= 에 알맞은 독립변수들을 넣어줘야 함\n",
    "    # 시각화\n",
    "    plt.figure(figsize=(10, 3))\n",
    "    plt.title(\"<Feature importance of coefficients with Lasso Regulization>\", fontsize=15)\n",
    "    plt.bar(coef.index, coef)\n",
    "    plt.xticks(coef.index, rotation=45, fontsize=11);\n",
    "    y_pred = model_Lasso.predict(X_test)\n",
    "    r2 = r2_score(y_test, y_pred)\n",
    "    col_name = f'Lasso(alpha={each:.2f})'\n",
    "    comp_df[col_name] = np.append(model_Lasso.coef_, r2)"
   ]
  },
  {
   "attachments": {},
   "cell_type": "markdown",
   "metadata": {},
   "source": [
    "## ElasticNet"
   ]
  },
  {
   "cell_type": "code",
   "execution_count": null,
   "metadata": {},
   "outputs": [],
   "source": [
    "from sklearn.linear_model import ElasticNet\n",
    "\n",
    "for i in alpha_list:\n",
    "    model_ElasticNet = ElasticNet(alpha=i, l1_ratio=0.5)\n",
    "    model_ElasticNet.fit(X_train, y_train)\n",
    "    y_pred = model_ElasticNet.predict(X_test)\n",
    "    r2 = r2_score(y_test, y_pred)\n",
    "    col_name = f'ElasticNet(alpha={each:.2f})'\n",
    "    comp_df[col_name] = np.append(model_ElasticNet.coef_, r2)"
   ]
  }
 ],
 "metadata": {
  "kernelspec": {
   "display_name": "base",
   "language": "python",
   "name": "python3"
  },
  "language_info": {
   "name": "python",
   "version": "3.9.16"
  },
  "orig_nbformat": 4,
  "vscode": {
   "interpreter": {
    "hash": "7f3124b86b953d827ebe31858c9d7d57fd1033c1acdaf6cbd0987152aea75cb0"
   }
  }
 },
 "nbformat": 4,
 "nbformat_minor": 2
}
