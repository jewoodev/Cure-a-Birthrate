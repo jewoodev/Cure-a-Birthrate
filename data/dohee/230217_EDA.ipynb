{
 "cells": [
  {
   "cell_type": "markdown",
   "id": "573f4b54-568a-4b1b-bd01-864e93fc2c61",
   "metadata": {},
   "source": [
    "# **< 전국 >**\n",
    "# 1. 관계 시각화 탐색\n",
    "## 1) 종속변수 target 1 (합계출산율) VS 독립변수"
   ]
  },
  {
   "cell_type": "code",
   "execution_count": null,
   "id": "a4eab355-e5d2-4fe3-9287-4b0550e204e7",
   "metadata": {},
   "outputs": [],
   "source": [
    "import numpy as np\n",
    "import pandas as pd\n",
    "import seaborn as sns\n",
    "import matplotlib.pyplot as plt"
   ]
  },
  {
   "cell_type": "code",
   "execution_count": null,
   "id": "90b8dd9b-b52a-430c-b6e8-3f8740568572",
   "metadata": {},
   "outputs": [],
   "source": [
    "# 합계출산율 : delivery_rate\n",
    "# 총 출산아수 : total_childbirth"
   ]
  },
  {
   "cell_type": "code",
   "execution_count": null,
   "id": "ecc340dc-4177-49f9-8170-09a63da95e7e",
   "metadata": {},
   "outputs": [],
   "source": [
    "# [1] 비교할 열 선택\n",
    "d_feature  = [c for c in list(california_df)[:-1]]\n",
    "\n",
    "# [2] 캔버스 준비 및 axes 그리기\n",
    "fix, ax = plt.subplots(figsize = (16, 12), nrows = 2, ncols = 4)\n",
    "for idx, feature in enumerate(d_feature) :\n",
    "    row = int(idx / 4)\n",
    "    col = idx % 4\n",
    "    sns.regplot(x = feature, y = 'Price', data = california_df, ax = ax[row][col])"
   ]
  },
  {
   "cell_type": "markdown",
   "id": "542915c8-47e7-449e-b5cc-67e312c8b6e8",
   "metadata": {},
   "source": [
    "## 2) 종속변수 target 2 (총출산아 수) VS 독립변수"
   ]
  },
  {
   "cell_type": "code",
   "execution_count": null,
   "id": "8617fd61-9a3c-4532-857f-08c342e09dad",
   "metadata": {},
   "outputs": [],
   "source": [
    "# [1] 비교할 열 선택\n",
    "t_feature  = [c for c in list(california_df)[:-1]]\n",
    "\n",
    "# [2] 캔버스 준비 및 axes 그리기\n",
    "fix, ax = plt.subplots(figsize = (16, 12), nrows = 2, ncols = 4)\n",
    "for idx, feature in enumerate(t_feature) :\n",
    "    row = int(idx / 4)\n",
    "    col = idx % 4\n",
    "    sns.regplot(x = feature, y = 'Price', data = california_df, ax = ax[row][col])"
   ]
  },
  {
   "cell_type": "markdown",
   "id": "245d3678-a11d-42c5-b01f-173d4e2584c1",
   "metadata": {},
   "source": [
    "## 3) 독립변수 간 상관 관계 (히트맵)"
   ]
  },
  {
   "cell_type": "markdown",
   "id": "ad74f1bf-10df-44b4-9471-fd8f52ad3f68",
   "metadata": {},
   "source": [
    "#### [1] 비슷한 독립변수 상관관계"
   ]
  },
  {
   "cell_type": "code",
   "execution_count": null,
   "id": "907b0071-d419-424f-bbff-914c131c8b51",
   "metadata": {},
   "outputs": [],
   "source": [
    "features = [독립변수]\n",
    "sns.pairplot(california_df[features])"
   ]
  },
  {
   "cell_type": "markdown",
   "id": "9df96913-7e40-43e4-b375-7920baf26fe2",
   "metadata": {},
   "source": [
    "#### [2] 전체 독립변수 간 상관관계"
   ]
  },
  {
   "cell_type": "code",
   "execution_count": null,
   "id": "19c2ad40-cf9e-443a-ad3e-19d261b0ac8f",
   "metadata": {},
   "outputs": [],
   "source": [
    "features = california_df.columns[:-1]\n",
    "corr_df = california_df[features].corr()\n",
    "sns.heatmap(corr_df, annot = True)"
   ]
  },
  {
   "cell_type": "markdown",
   "id": "e238da91-8f4a-4b0d-a4a0-b10b2f254aba",
   "metadata": {},
   "source": [
    "<hr>"
   ]
  },
  {
   "cell_type": "markdown",
   "id": "d50f7778-749b-4110-a61f-567b0ac1ab1f",
   "metadata": {},
   "source": [
    "#### 결과\n",
    "상관계수가 0.85 이상인 독립변수 처리<br>\n",
    "(1) 한 개의 대표 변수를 선별<br>\n",
    "(2) 상관성을 줄이기 위하여 독립변수 변환<br>"
   ]
  },
  {
   "cell_type": "code",
   "execution_count": null,
   "id": "eb998702-8669-4e4f-a704-35cb9b476548",
   "metadata": {},
   "outputs": [],
   "source": []
  },
  {
   "cell_type": "code",
   "execution_count": null,
   "id": "d36cf189-9a14-4083-964e-a5e561d6bba6",
   "metadata": {},
   "outputs": [],
   "source": []
  },
  {
   "cell_type": "markdown",
   "id": "d07af1fd-68eb-4846-8cc4-fc53bc435055",
   "metadata": {},
   "source": [
    "# 2. 결측값 대체 (전국)\n",
    "#### **21개 columns = 독립변수 + target 2개**\n",
    "\n",
    "⇒ 각 독립변수 별로 결측값 대체 방법 설정 필요<br>\n",
    "\n",
    "--------------------------------------------------<br>\n",
    "target 1 : 합계출산율<br>\n",
    "target 2 : 총 출생아 수<br>\n",
    "columns = 독립변수 (출생아에 영향을 주는 요인)<br>\n",
    "index = 연도<br>\n",
    "---------------------------------------------------<br>\n",
    "\n",
    "- 전체 데이터 : shape(16, 21) => values : 336개<br>\n",
    "   - 30% 이상(100개 이상) => 결측율이 높아 결측값 대체 없이 원자료로 진행 (값을 0으로 두고)\n",
    "   - 30% 미만 (100개 미만) => 결측값 대체"
   ]
  },
  {
   "cell_type": "code",
   "execution_count": null,
   "id": "54cc7940-3b75-440e-aaa2-f8cadf7053da",
   "metadata": {},
   "outputs": [],
   "source": []
  },
  {
   "cell_type": "code",
   "execution_count": null,
   "id": "71986bc9-97b7-4448-8837-c3cda306d25e",
   "metadata": {},
   "outputs": [],
   "source": []
  },
  {
   "cell_type": "code",
   "execution_count": null,
   "id": "2f2a7e95-76b3-4437-9da8-619b2f07622a",
   "metadata": {},
   "outputs": [],
   "source": []
  },
  {
   "cell_type": "code",
   "execution_count": null,
   "id": "90be162c-0033-4f87-ba88-6a9ca08255cf",
   "metadata": {},
   "outputs": [],
   "source": []
  },
  {
   "cell_type": "code",
   "execution_count": null,
   "id": "5922f832-2716-4793-9ac4-12e592520016",
   "metadata": {},
   "outputs": [],
   "source": []
  }
 ],
 "metadata": {
  "kernelspec": {
   "display_name": "Python 3 (ipykernel)",
   "language": "python",
   "name": "python3"
  },
  "language_info": {
   "codemirror_mode": {
    "name": "ipython",
    "version": 3
   },
   "file_extension": ".py",
   "mimetype": "text/x-python",
   "name": "python",
   "nbconvert_exporter": "python",
   "pygments_lexer": "ipython3",
   "version": "3.9.13"
  }
 },
 "nbformat": 4,
 "nbformat_minor": 5
}
